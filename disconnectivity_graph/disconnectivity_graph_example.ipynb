{
 "cells": [
  {
   "cell_type": "markdown",
   "metadata": {},
   "source": [
    "example for how to use double ended connect to connect the minima in an existing database\n",
    "\n",
    "we will use as an example system the Lennard-Jones cluster with a small number of atoms.\n",
    "Since we don't already have a database, for this example we'll build a small one using\n",
    "basinhopping"
   ]
  },
  {
   "cell_type": "code",
   "execution_count": 1,
   "metadata": {},
   "outputs": [
    {
     "name": "stdout",
     "output_type": "stream",
     "text": [
      "will compute the lowest eigenvector by diagonalizing the Hessian\n"
     ]
    }
   ],
   "source": [
    "from pele.systems import LJCluster\n",
    "from pele.utils.disconnectivity_graph import DisconnectivityGraph, database2graph\n",
    "%matplotlib inline\n",
    "natoms = 16\n",
    "system = LJCluster(natoms)"
   ]
  },
  {
   "cell_type": "code",
   "execution_count": 2,
   "metadata": {},
   "outputs": [
    {
     "data": {
      "text/plain": [
       "<pele.systems.ljcluster.LJCluster at 0x7f2abab59e10>"
      ]
     },
     "execution_count": 2,
     "metadata": {},
     "output_type": "execute_result"
    }
   ],
   "source": [
    "system"
   ]
  },
  {
   "cell_type": "markdown",
   "metadata": {},
   "source": [
    "create the database where the minima and transition states will be stored"
   ]
  },
  {
   "cell_type": "code",
   "execution_count": 3,
   "metadata": {},
   "outputs": [
    {
     "data": {
      "text/plain": [
       "u'/home/wk3user2/plc/free_energy/disconnectivity_graph'"
      ]
     },
     "execution_count": 3,
     "metadata": {},
     "output_type": "execute_result"
    }
   ],
   "source": [
    "pwd"
   ]
  },
  {
   "cell_type": "code",
   "execution_count": 4,
   "metadata": {},
   "outputs": [],
   "source": [
    "db = system.create_database()"
   ]
  },
  {
   "cell_type": "markdown",
   "metadata": {},
   "source": [
    "use basinhopping to build a database of minima"
   ]
  },
  {
   "cell_type": "code",
   "execution_count": 17,
   "metadata": {},
   "outputs": [],
   "source": [
    "bh = system.get_basinhopping(database=db, outstream=None)\n",
    "bh.run(100)"
   ]
  },
  {
   "cell_type": "code",
   "execution_count": 18,
   "metadata": {},
   "outputs": [
    {
     "name": "stdout",
     "output_type": "stream",
     "text": [
      "number of minima 21\n",
      "number of transition states 0\n"
     ]
    }
   ],
   "source": [
    "print \"number of minima\", db.number_of_minima()\n",
    "print \"number of transition states\", db.number_of_transition_states()"
   ]
  },
  {
   "cell_type": "markdown",
   "metadata": {},
   "source": [
    "use the logging module to turn of status printing for the connect runs"
   ]
  },
  {
   "cell_type": "code",
   "execution_count": 19,
   "metadata": {},
   "outputs": [],
   "source": [
    "import logging\n",
    "logger = logging.getLogger(\"pele.connect\")\n",
    "logger.setLevel(\"WARNING\")"
   ]
  },
  {
   "cell_type": "markdown",
   "metadata": {},
   "source": [
    "do a bunch of double ended connect runs to find transition states connecting the minima"
   ]
  },
  {
   "cell_type": "code",
   "execution_count": 20,
   "metadata": {},
   "outputs": [
    {
     "name": "stdout",
     "output_type": "stream",
     "text": [
      "sending a random connect job 3 2\n",
      "will compute the lowest eigenvector by diagonalizing the Hessian\n",
      "energy decreased after uphill step -55.0796173997 -> -55.0985081269\n",
      "will compute the lowest eigenvector by diagonalizing the Hessian\n",
      "stepping off the transition state resulted in twice the same minima 2\n",
      "will compute the lowest eigenvector by diagonalizing the Hessian\n",
      "  positive before check. setting all ok\n",
      "will compute the lowest eigenvector by diagonalizing the Hessian\n",
      "will compute the lowest eigenvector by diagonalizing the Hessian\n",
      "sending a random connect job 22 4\n",
      "will compute the lowest eigenvector by diagonalizing the Hessian\n",
      "will compute the lowest eigenvector by diagonalizing the Hessian\n",
      "will compute the lowest eigenvector by diagonalizing the Hessian\n",
      "stepping off the transition state resulted in twice the same minima 2\n",
      "will compute the lowest eigenvector by diagonalizing the Hessian\n",
      "will compute the lowest eigenvector by diagonalizing the Hessian\n",
      "will compute the lowest eigenvector by diagonalizing the Hessian\n",
      "sending a random connect job 5 14\n",
      "will compute the lowest eigenvector by diagonalizing the Hessian\n",
      "sending a random connect job 7 17\n",
      "will compute the lowest eigenvector by diagonalizing the Hessian\n",
      "will compute the lowest eigenvector by diagonalizing the Hessian\n",
      "will compute the lowest eigenvector by diagonalizing the Hessian\n",
      "sending a random connect job 21 15\n",
      "will compute the lowest eigenvector by diagonalizing the Hessian\n",
      "  positive before check. setting all ok\n",
      "  positive before check. setting all ok\n",
      "  positive before check. setting all ok\n",
      "  positive before check. setting all ok\n",
      "  positive before check. setting all ok\n",
      "will compute the lowest eigenvector by diagonalizing the Hessian\n",
      "will compute the lowest eigenvector by diagonalizing the Hessian\n",
      "will compute the lowest eigenvector by diagonalizing the Hessian\n",
      "sending a random connect job 12 19\n",
      "will compute the lowest eigenvector by diagonalizing the Hessian\n",
      "will compute the lowest eigenvector by diagonalizing the Hessian\n",
      "  positive before check. setting all ok\n",
      "  positive before check. setting all ok\n",
      "  positive before check. setting all ok\n",
      "  positive before check. setting all ok\n",
      "  positive before check. setting all ok\n",
      "  positive before check. setting all ok\n",
      "will compute the lowest eigenvector by diagonalizing the Hessian\n",
      "will compute the lowest eigenvector by diagonalizing the Hessian\n",
      "sending a random connect job 27 10\n",
      "will compute the lowest eigenvector by diagonalizing the Hessian\n",
      "sending a random connect job 22 15\n",
      "sending a random connect job 9 2\n",
      "will compute the lowest eigenvector by diagonalizing the Hessian\n",
      "will compute the lowest eigenvector by diagonalizing the Hessian\n",
      "will compute the lowest eigenvector by diagonalizing the Hessian\n",
      "will compute the lowest eigenvector by diagonalizing the Hessian\n",
      "  positive before check. setting all ok\n",
      "will compute the lowest eigenvector by diagonalizing the Hessian\n",
      "will compute the lowest eigenvector by diagonalizing the Hessian\n",
      "sending a random connect job 21 14\n",
      "sending a random connect job 15 14\n",
      "sending a random connect job 18 10\n",
      "will compute the lowest eigenvector by diagonalizing the Hessian\n",
      "will compute the lowest eigenvector by diagonalizing the Hessian\n",
      "  positive before check. setting all ok\n",
      "will compute the lowest eigenvector by diagonalizing the Hessian\n",
      "sending a random connect job 24 21\n",
      "sending a random connect job 17 4\n",
      "sending a random connect job 17 19\n",
      "sending a random connect job 26 17\n",
      "sending a random connect job 23 7\n",
      "sending a random connect job 3 10\n",
      "sending a random connect job 10 8\n",
      "will compute the lowest eigenvector by diagonalizing the Hessian\n",
      "will compute the lowest eigenvector by diagonalizing the Hessian\n",
      "will compute the lowest eigenvector by diagonalizing the Hessian\n",
      "sending a random connect job 24 19\n"
     ]
    }
   ],
   "source": [
    "from pele.landscape import ConnectManager\n",
    "manager = ConnectManager(db)\n",
    "for i in xrange(20):\n",
    "    min1, min2 = manager.get_connect_job()\n",
    "    connect = system.get_double_ended_connect(min1, min2, db, verbosity=-1)\n",
    "    connect.connect()"
   ]
  },
  {
   "cell_type": "markdown",
   "metadata": {},
   "source": [
    "now that we have a database with minima and transition states we can build the disconnectivity graph"
   ]
  },
  {
   "cell_type": "markdown",
   "metadata": {},
   "source": [
    "print some information about the database"
   ]
  },
  {
   "cell_type": "code",
   "execution_count": 21,
   "metadata": {},
   "outputs": [
    {
     "name": "stdout",
     "output_type": "stream",
     "text": [
      "number of minima 30\n",
      "number of transition states 27\n"
     ]
    }
   ],
   "source": [
    "print \"number of minima\", db.number_of_minima()\n",
    "print \"number of transition states\", db.number_of_transition_states()"
   ]
  },
  {
   "cell_type": "code",
   "execution_count": 22,
   "metadata": {},
   "outputs": [
    {
     "data": {
      "image/png": "[encoded data removed]",
      "text/plain": [
       "<Figure size 432x504 with 1 Axes>"
      ]
     },
     "metadata": {},
     "output_type": "display_data"
    }
   ],
   "source": [
    "graph = database2graph(db)\n",
    "dgraph = DisconnectivityGraph(graph)\n",
    "dgraph.calculate()\n",
    "dgraph.plot()\n",
    "import matplotlib.pyplot as plt\n",
    "plt.show()"
   ]
  },
  {
   "cell_type": "code",
   "execution_count": null,
   "metadata": {
    "collapsed": true
   },
   "outputs": [],
   "source": []
  },
  {
   "cell_type": "code",
   "execution_count": null,
   "metadata": {
    "collapsed": true
   },
   "outputs": [],
   "source": []
  },
  {
   "cell_type": "code",
   "execution_count": null,
   "metadata": {
    "collapsed": true
   },
   "outputs": [],
   "source": []
  },
  {
   "cell_type": "code",
   "execution_count": null,
   "metadata": {
    "collapsed": true
   },
   "outputs": [],
   "source": []
  }
 ],
 "metadata": {
  "kernelspec": {
   "display_name": "pele",
   "language": "python",
   "name": "pele"
  },
  "language_info": {
   "codemirror_mode": {
    "name": "ipython",
    "version": 2
   },
   "file_extension": ".py",
   "mimetype": "text/x-python",
   "name": "python",
   "nbconvert_exporter": "python",
   "pygments_lexer": "ipython2",
   "version": "2.7.15"
  }
 },
 "nbformat": 4,
 "nbformat_minor": 1
}
