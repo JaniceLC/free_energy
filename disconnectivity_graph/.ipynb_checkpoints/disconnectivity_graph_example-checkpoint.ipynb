{
 "cells": [
  {
   "cell_type": "markdown",
   "metadata": {},
   "source": [
    "example for how to use double ended connect to connect the minima in an existing database\n",
    "\n",
    "we will use as an example system the Lennard-Jones cluster with a small number of atoms.\n",
    "Since we don't already have a database, for this example we'll build a small one using\n",
    "basinhopping"
   ]
  },
  {
   "cell_type": "code",
   "execution_count": 1,
   "metadata": {},
   "outputs": [
    {
     "name": "stdout",
     "output_type": "stream",
     "text": [
      "will compute the lowest eigenvector by diagonalizing the Hessian\n"
     ]
    }
   ],
   "source": [
    "from pele.systems import LJCluster\n",
    "from pele.utils.disconnectivity_graph import DisconnectivityGraph, database2graph\n",
    "\n",
    "natoms = 16\n",
    "system = LJCluster(natoms)"
   ]
  },
  {
   "cell_type": "markdown",
   "metadata": {},
   "source": [
    "create the database where the minima and transition states will be stored"
   ]
  },
  {
   "cell_type": "code",
   "execution_count": 2,
   "metadata": {
    "collapsed": true
   },
   "outputs": [],
   "source": [
    "db = system.create_database()"
   ]
  },
  {
   "cell_type": "markdown",
   "metadata": {},
   "source": [
    "use basinhopping to build a database of minima"
   ]
  },
  {
   "cell_type": "code",
   "execution_count": 3,
   "metadata": {},
   "outputs": [],
   "source": [
    "bh = system.get_basinhopping(database=db, outstream=None)\n",
    "bh.run(100)"
   ]
  },
  {
   "cell_type": "markdown",
   "metadata": {},
   "source": [
    "use the logging module to turn of status printing for the connect runs"
   ]
  },
  {
   "cell_type": "code",
   "execution_count": 4,
   "metadata": {},
   "outputs": [],
   "source": [
    "import logging\n",
    "logger = logging.getLogger(\"pele.connect\")\n",
    "logger.setLevel(\"WARNING\")"
   ]
  },
  {
   "cell_type": "markdown",
   "metadata": {},
   "source": [
    "do a bunch of double ended connect runs to find transition states connecting the minima"
   ]
  },
  {
   "cell_type": "code",
   "execution_count": 5,
   "metadata": {},
   "outputs": [
    {
     "name": "stdout",
     "output_type": "stream",
     "text": [
      "sending a random connect job 4 5\n",
      "will compute the lowest eigenvector by diagonalizing the Hessian\n",
      "will compute the lowest eigenvector by diagonalizing the Hessian\n",
      "will compute the lowest eigenvector by diagonalizing the Hessian\n",
      "will compute the lowest eigenvector by diagonalizing the Hessian\n",
      "  positive before check. setting all ok\n",
      "will compute the lowest eigenvector by diagonalizing the Hessian\n",
      "will compute the lowest eigenvector by diagonalizing the Hessian\n",
      "will compute the lowest eigenvector by diagonalizing the Hessian\n",
      "will compute the lowest eigenvector by diagonalizing the Hessian\n",
      "sending a random connect job 15 9\n",
      "will compute the lowest eigenvector by diagonalizing the Hessian\n",
      "  positive before check. setting all ok\n",
      "will compute the lowest eigenvector by diagonalizing the Hessian\n",
      "will compute the lowest eigenvector by diagonalizing the Hessian\n",
      "will compute the lowest eigenvector by diagonalizing the Hessian\n",
      "will compute the lowest eigenvector by diagonalizing the Hessian\n",
      "energy decreased after uphill step -55.0795864684 -> -55.086546834\n",
      "will compute the lowest eigenvector by diagonalizing the Hessian\n",
      "sending a random connect job 15 1\n",
      "will compute the lowest eigenvector by diagonalizing the Hessian\n",
      "will compute the lowest eigenvector by diagonalizing the Hessian\n",
      "will compute the lowest eigenvector by diagonalizing the Hessian\n",
      "  positive before check. setting all ok\n",
      "will compute the lowest eigenvector by diagonalizing the Hessian\n",
      "will compute the lowest eigenvector by diagonalizing the Hessian\n",
      "sending a random connect job 17 1\n",
      "will compute the lowest eigenvector by diagonalizing the Hessian\n",
      "will compute the lowest eigenvector by diagonalizing the Hessian\n",
      "will compute the lowest eigenvector by diagonalizing the Hessian\n",
      "  positive before check. setting all ok\n",
      "  positive before check. setting all ok\n",
      "  positive before check. setting all ok\n",
      "  positive before check. setting all ok\n",
      "  positive before check. setting all ok\n",
      "  positive before check. setting all ok\n",
      "will compute the lowest eigenvector by diagonalizing the Hessian\n",
      "will compute the lowest eigenvector by diagonalizing the Hessian\n",
      "stepping off the transition state resulted in twice the same minima 3\n",
      "will compute the lowest eigenvector by diagonalizing the Hessian\n",
      "will compute the lowest eigenvector by diagonalizing the Hessian\n",
      "  positive before check. setting all ok\n",
      "  positive before check. setting all ok\n",
      "will compute the lowest eigenvector by diagonalizing the Hessian\n",
      "will compute the lowest eigenvector by diagonalizing the Hessian\n",
      "energy decreased after uphill step -54.8444508759 -> -54.8445087\n",
      "will compute the lowest eigenvector by diagonalizing the Hessian\n",
      "sending a random connect job 2 14\n",
      "will compute the lowest eigenvector by diagonalizing the Hessian\n",
      "will compute the lowest eigenvector by diagonalizing the Hessian\n",
      "will compute the lowest eigenvector by diagonalizing the Hessian\n",
      "sending a random connect job 23 30\n",
      "will compute the lowest eigenvector by diagonalizing the Hessian\n",
      "sending a random connect job 6 14\n",
      "will compute the lowest eigenvector by diagonalizing the Hessian\n",
      "will compute the lowest eigenvector by diagonalizing the Hessian\n",
      "will compute the lowest eigenvector by diagonalizing the Hessian\n",
      "sending a random connect job 18 23\n",
      "will compute the lowest eigenvector by diagonalizing the Hessian\n",
      "will compute the lowest eigenvector by diagonalizing the Hessian\n",
      "will compute the lowest eigenvector by diagonalizing the Hessian\n",
      "will compute the lowest eigenvector by diagonalizing the Hessian\n",
      "sending a random connect job 12 26\n",
      "will compute the lowest eigenvector by diagonalizing the Hessian\n",
      "  positive before check. setting all ok\n",
      "will compute the lowest eigenvector by diagonalizing the Hessian\n",
      "will compute the lowest eigenvector by diagonalizing the Hessian\n",
      "  positive before check. setting all ok\n",
      "  positive before check. setting all ok\n",
      "  positive before check. setting all ok\n",
      "  positive before check. setting all ok\n",
      "  positive before check. setting all ok\n",
      "  positive before check. setting all ok\n",
      "  positive before check. setting all ok\n",
      "  positive before check. setting all ok\n",
      "  positive before check. setting all ok\n",
      "  positive before check. setting all ok\n",
      "will compute the lowest eigenvector by diagonalizing the Hessian\n",
      "will compute the lowest eigenvector by diagonalizing the Hessian\n",
      "will compute the lowest eigenvector by diagonalizing the Hessian\n",
      "will compute the lowest eigenvector by diagonalizing the Hessian\n",
      "sending a random connect job 27 39\n",
      "sending a random connect job 35 37\n",
      "sending a random connect job 5 22\n",
      "sending a random connect job 19 40\n",
      "will compute the lowest eigenvector by diagonalizing the Hessian\n",
      "will compute the lowest eigenvector by diagonalizing the Hessian\n",
      "will compute the lowest eigenvector by diagonalizing the Hessian\n",
      "sending a random connect job 7 18\n",
      "will compute the lowest eigenvector by diagonalizing the Hessian\n",
      "will compute the lowest eigenvector by diagonalizing the Hessian\n",
      "will compute the lowest eigenvector by diagonalizing the Hessian\n",
      "will compute the lowest eigenvector by diagonalizing the Hessian\n",
      "will compute the lowest eigenvector by diagonalizing the Hessian\n",
      "stepping off the transition state resulted in twice the same minima 3\n",
      "will compute the lowest eigenvector by diagonalizing the Hessian\n",
      "will compute the lowest eigenvector by diagonalizing the Hessian\n",
      "sending a random connect job 4 38\n",
      "sending a random connect job 18 3\n",
      "sending a random connect job 21 10\n",
      "will compute the lowest eigenvector by diagonalizing the Hessian\n",
      "will compute the lowest eigenvector by diagonalizing the Hessian\n",
      "will compute the lowest eigenvector by diagonalizing the Hessian\n",
      "will compute the lowest eigenvector by diagonalizing the Hessian\n",
      "  positive before check. setting all ok\n",
      "will compute the lowest eigenvector by diagonalizing the Hessian\n",
      "will compute the lowest eigenvector by diagonalizing the Hessian\n",
      "will compute the lowest eigenvector by diagonalizing the Hessian\n",
      "will compute the lowest eigenvector by diagonalizing the Hessian\n",
      "will compute the lowest eigenvector by diagonalizing the Hessian\n",
      "will compute the lowest eigenvector by diagonalizing the Hessian\n",
      "stepping off the transition state resulted in twice the same minima 10\n",
      "sending a random connect job 42 12\n",
      "sending a random connect job 7 16\n",
      "sending a random connect job 4 20\n",
      "will compute the lowest eigenvector by diagonalizing the Hessian\n",
      "will compute the lowest eigenvector by diagonalizing the Hessian\n",
      "will compute the lowest eigenvector by diagonalizing the Hessian\n"
     ]
    }
   ],
   "source": [
    "from pele.landscape import ConnectManager\n",
    "manager = ConnectManager(db)\n",
    "for i in xrange(20):\n",
    "    min1, min2 = manager.get_connect_job()\n",
    "    connect = system.get_double_ended_connect(min1, min2, db, verbosity=-1)\n",
    "    connect.connect()"
   ]
  },
  {
   "cell_type": "markdown",
   "metadata": {},
   "source": [
    "now that we have a database with minima and transition states we can build the disconnectivity graph"
   ]
  },
  {
   "cell_type": "markdown",
   "metadata": {},
   "source": [
    "print some information about the database"
   ]
  },
  {
   "cell_type": "code",
   "execution_count": 6,
   "metadata": {},
   "outputs": [
    {
     "name": "stdout",
     "output_type": "stream",
     "text": [
      "number of minima 49\n",
      "number of transition states 53\n"
     ]
    }
   ],
   "source": [
    "print \"number of minima\", db.number_of_minima()\n",
    "print \"number of transition states\", db.number_of_transition_states()"
   ]
  },
  {
   "cell_type": "code",
   "execution_count": 7,
   "metadata": {},
   "outputs": [
    {
     "data": {
      "image/png": "[encoded data removed]",
      "text/plain": [
       "<matplotlib.figure.Figure at 0x7faea807a510>"
      ]
     },
     "metadata": {},
     "output_type": "display_data"
    }
   ],
   "source": [
    "graph = database2graph(db)\n",
    "dgraph = DisconnectivityGraph(graph)\n",
    "dgraph.calculate()\n",
    "dgraph.plot()\n",
    "import matplotlib.pyplot as plt\n",
    "plt.show()"
   ]
  },
  {
   "cell_type": "code",
   "execution_count": null,
   "metadata": {
    "collapsed": true
   },
   "outputs": [],
   "source": []
  },
  {
   "cell_type": "code",
   "execution_count": null,
   "metadata": {
    "collapsed": true
   },
   "outputs": [],
   "source": []
  }
 ],
 "metadata": {
  "kernelspec": {
   "display_name": "Python 2",
   "language": "python",
   "name": "python2"
  },
  "language_info": {
   "codemirror_mode": {
    "name": "ipython",
    "version": 2
   },
   "file_extension": ".py",
   "mimetype": "text/x-python",
   "name": "python",
   "nbconvert_exporter": "python",
   "pygments_lexer": "ipython2",
   "version": "2.7.14"
  }
 },
 "nbformat": 4,
 "nbformat_minor": 1
}
