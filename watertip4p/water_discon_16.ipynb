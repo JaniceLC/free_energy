{
 "cells": [
  {
   "cell_type": "code",
   "execution_count": 30,
   "metadata": {
    "colab": {},
    "colab_type": "code",
    "id": "yE2EN6yuWLmZ"
   },
   "outputs": [],
   "source": [
    "import numpy as np\n",
    "from pele.potentials import LJ\n",
    "from pele.utils import xyz\n",
    "from pele.optimize import lbfgs_py\n",
    "#from .tip4p_system import TIP4PSystem\n",
    "\n",
    "# read in coordinates from xyz file\n",
    "ref = xyz.read_xyz(open(\"TIP4P-16.xyz\"))\n",
    "xyz.write_xyz(open(\"test.xyz\", \"w\"), coords=ref.coords)\n",
    "# lookup table for atom masses\n",
    "mass_lookup = {'O': 16., 'H': 1.}\n",
    "\n",
    "#ref.coords[:] *= 3\n"
   ]
  },
  {
   "cell_type": "code",
   "execution_count": 32,
   "metadata": {},
   "outputs": [],
   "source": [
    "import numpy as np\n",
    "from copy import deepcopy\n",
    "from pele.angleaxis import RBTopology, RBSystem\n",
    " # For rigid fragment\n",
    "import numpy as np\n",
    "from pele.potentials import LJ\n",
    "from pele.utils import xyz\n",
    "from pele.angleaxis import rigidbody\n",
    "from pele.optimize import lbfgs_py\n",
    " \n",
    "# read in coordinates from xyz file\n",
    "ref = xyz.read_xyz(open(\"TIP4P-16.xyz\"))\n",
    "xyz.write_xyz(open(\"test.xyz\", \"w\"), coords=ref.coords)\n",
    "# lookup table for atom masses\n",
    "mass_lookup = {'O': 16., 'H': 1.}\n",
    "\n",
    "\n",
    "def water(xyzfile): # TIP4P-16.xyz\"\n",
    "    ref = xyz.read_xyz(open(xyzfile))\n",
    "    xyz.write_xyz(open(\"test.xyz\", \"w\"), coords=ref.coords)\n",
    "# lookup table for atom masses\n",
    "    mass_lookup = {'O': 16., 'H': 1.}\n",
    "    rb_sites = []\n",
    "    for atomtype, x, i in zip(ref.atomtypes, ref.coords, xrange(len(ref.atomtypes))):\n",
    "        # every 3rd atom, define a new reigid molecule\n",
    "        if i % 3 == 0:\n",
    "            rb = rigidbody.RigidFragment()\n",
    "            rb_sites.append(rb)\n",
    "        rb.add_atom(atomtype, x, mass_lookup[atomtype])\n",
    "# finalize the rigid body setup\n",
    "    for rb in rb_sites:\n",
    "        rb.finalize_setup()\n",
    "    return rb_sites, ref \n",
    "\n",
    "class TIP4PSystem(RBSystem):\n",
    "    def __init__(self, xyzfile):\n",
    "        self.xyzfile = xyzfile\n",
    "        RBSystem.__init__(self)\n",
    "    def setup_aatopology(self):\n",
    "        water_sites, ref = water(self.xyzfile)\n",
    "        rbsystem = RBTopology()\n",
    "        rbsystem.add_sites(water_sites)\n",
    "        rbsystem.finalize_setup()\n",
    "        #print len(rbsystem.sites), len(rbsystem.indices)\n",
    "        print \"I have %d water molecules in the system\" % len(rbsystem.sites)\n",
    "        rbcoords = rbsystem.coords_adapter(np.zeros(len(rbsystem.sites)*6))\n",
    "        for site, com in zip(rbsystem.sites, rbcoords.posRigid):\n",
    "            com[:] = ref.coords[site.atom_indices[0]] - site.atom_positions[0]\n",
    "        pot = LJ(eps=0.1550, sig=3.1536)\n",
    "        # get the flattened coordinate array\n",
    "        print \"The initial energy is\", pot.getEnergy(ref.coords.flatten())\n",
    "        rbpot = rigidbody.RBPotentialWrapper(rbsystem, pot) \n",
    "        print \"rbpot.getEnergy(rbcoords.coords)\", rbpot.getEnergy(rbcoords.coords)\n",
    "        e, g = rbpot.getEnergyGradient(rbcoords.coords)\n",
    "        g_n = rbpot.NumericalDerivative(rbcoords.coords, eps=1e-4)\n",
    "        cg = rbsystem.coords_adapter(g-g_n)\n",
    "\n",
    "        # coords = rbpot.getCoords()\n",
    "        # nrigid = rbcoords.size / 6\n",
    "        # print \"nrigid\", nrigid\n",
    "        self.potential = rbpot\n",
    "        self.nrigid = len(rbsystem.sites)\n",
    "        self.render_scale = 0.3\n",
    "        self.atom_types = rbsystem.get_atomtypes()\n",
    "        self.draw_bonds = []\n",
    "        for i in xrange(self.nrigid):\n",
    "            self.draw_bonds.append((3*i, 3*i+1))\n",
    "            self.draw_bonds.append((3*i, 3*i+2))\n",
    "        rbsystem.finalize_setup()\n",
    "        print \"final!\"\n",
    "        return rbsystem\n",
    "\n",
    "    def get_potential(self):\n",
    "        return self.potential\n"
   ]
  },
  {
   "cell_type": "code",
   "execution_count": 33,
   "metadata": {
    "colab": {},
    "colab_type": "code",
    "id": "UAYKelzKWPs2"
   },
   "outputs": [
    {
     "name": "stdout",
     "output_type": "stream",
     "text": [
      "will compute the lowest eigenvector by diagonalizing the Hessian\n",
      "I have 16 water molecules in the system\n",
      "The initial energy is 32502468.4518\n",
      "rbpot.getEnergy(rbcoords.coords) 32502468.4518\n",
      "final!\n"
     ]
    }
   ],
   "source": [
    "#tip4p 16 \n",
    "system = TIP4PSystem('TIP4P-16.xyz')\n",
    "from pele import storage "
   ]
  },
  {
   "cell_type": "code",
   "execution_count": 34,
   "metadata": {
    "colab": {},
    "colab_type": "code",
    "id": "BirKCX_hjK5a"
   },
   "outputs": [
    {
     "ename": "AttributeError",
     "evalue": "'TIP4PSystem' object has no attribute 'get_masses'",
     "output_type": "error",
     "traceback": [
      "\u001b[0;31m---------------------------------------------------------------------------\u001b[0m",
      "\u001b[0;31mAttributeError\u001b[0m                            Traceback (most recent call last)",
      "\u001b[0;32m<ipython-input-34-a97a0505b32f>\u001b[0m in \u001b[0;36m<module>\u001b[0;34m()\u001b[0m\n\u001b[0;32m----> 1\u001b[0;31m \u001b[0;32mprint\u001b[0m \u001b[0msystem\u001b[0m\u001b[0;34m.\u001b[0m\u001b[0mget_masses\u001b[0m\u001b[0;34m(\u001b[0m\u001b[0;34m)\u001b[0m\u001b[0;34m\u001b[0m\u001b[0m\n\u001b[0m        \u001b[0;36mglobal\u001b[0m \u001b[0;36msystem.get_masses\u001b[0m \u001b[0;34m= \u001b[0;36mundefined\u001b[0m\u001b[0m\n\u001b[1;32m      2\u001b[0m \u001b[0;32mprint\u001b[0m \u001b[0msystem\u001b[0m\u001b[0;34m.\u001b[0m\u001b[0mget_permlist\u001b[0m\u001b[0;34m(\u001b[0m\u001b[0;34m)\u001b[0m\u001b[0;34m\u001b[0m\u001b[0m\n",
      "\u001b[0;31mAttributeError\u001b[0m: 'TIP4PSystem' object has no attribute 'get_masses'"
     ]
    }
   ],
   "source": [
    "print system.get_masses()\n",
    "print system.get_permlist()"
   ]
  },
  {
   "cell_type": "code",
   "execution_count": 35,
   "metadata": {},
   "outputs": [],
   "source": [
    "#%xmode"
   ]
  },
  {
   "cell_type": "code",
   "execution_count": 36,
   "metadata": {
    "colab": {},
    "colab_type": "code",
    "id": "VKW8sH2DjRSY"
   },
   "outputs": [],
   "source": [
    "\n",
    "def compare_min():\n",
    "    raise NotImplementedError \n",
    "    return \n",
    "db = system.create_database(db='tip4p16.sqlite')"
   ]
  },
  {
   "cell_type": "code",
   "execution_count": 37,
   "metadata": {
    "colab": {},
    "colab_type": "code",
    "id": "YcabFruzjZEw"
   },
   "outputs": [],
   "source": [
    "bh = system.get_basinhopping(database=db, outstream=None)\n",
    "bh.run(100)"
   ]
  },
  {
   "cell_type": "code",
   "execution_count": 38,
   "metadata": {
    "colab": {},
    "colab_type": "code",
    "id": "LAuXsNsvjjig"
   },
   "outputs": [
    {
     "name": "stdout",
     "output_type": "stream",
     "text": [
      "number of minima 146\n",
      "number of transition states 0\n"
     ]
    }
   ],
   "source": [
    "print \"number of minima\", db.number_of_minima()\n",
    "print \"number of transition states\", db.number_of_transition_states()"
   ]
  },
  {
   "cell_type": "code",
   "execution_count": 39,
   "metadata": {
    "colab": {},
    "colab_type": "code",
    "id": "59M6zmM4jfCQ"
   },
   "outputs": [],
   "source": [
    "import logging\n",
    "logger = logging.getLogger(\"pele.connect\")\n",
    "logger.setLevel(\"WARNING\")"
   ]
  },
  {
   "cell_type": "code",
   "execution_count": null,
   "metadata": {
    "colab": {},
    "colab_type": "code",
    "id": "u3rcixChjhq-",
    "scrolled": true
   },
   "outputs": [
    {
     "name": "stdout",
     "output_type": "stream",
     "text": [
      "sending a random connect job 138 119\n",
      "no reinterpolation needed\n",
      "no reinterpolation needed\n",
      "will compute the lowest eigenvector by diagonalizing the Hessian\n",
      "lbfgs: having trouble finding a good step size. 1.0000000000000002e-12 6.18814738813385, resetting the minimizer\n",
      "lbfgs: having trouble finding a good step size. 1e-12 0.12005794382824535, resetting the minimizer\n",
      "lbfgs: having trouble finding a good step size. 1.0000000000000002e-12 0.17020071524425265, resetting the minimizer\n",
      "lbfgs: having trouble finding a good step size. 1.0000000000000002e-12 0.17020071524425265, resetting the minimizer\n",
      "lbfgs: having trouble finding a good step size. 1.0000000000000002e-12 0.17020071524425265, resetting the minimizer\n",
      "lbfgs: having trouble finding a good step size. 1.0000000000000002e-12 0.17020071524425265, resetting the minimizer\n",
      "lbfgs: having trouble finding a good step size. 1.0000000000000002e-12 0.17020071524425265, resetting the minimizer\n",
      "lbfgs: having trouble finding a good step size. 1.0000000000000002e-12 0.17020071524425265, resetting the minimizer\n",
      "lbfgs: having trouble finding a good step size. 1.0000000000000002e-12 0.17020071524425265, resetting the minimizer\n",
      "lbfgs: having trouble finding a good step size. 1.0000000000000002e-12 0.17020071524425265, resetting the minimizer\n",
      "lbfgs: too many failures in adjustStepSize, exiting\n",
      "caught line search error, aborting connection attempt\n",
      "sending a random connect job 125 40\n",
      "no reinterpolation needed\n",
      "no reinterpolation needed\n",
      "no reinterpolation needed\n",
      "no reinterpolation needed\n",
      "no reinterpolation needed\n",
      "no reinterpolation needed\n",
      "no reinterpolation needed\n",
      "no reinterpolation needed\n",
      "no reinterpolation needed\n",
      "no reinterpolation needed\n",
      "no reinterpolation needed\n",
      "no reinterpolation needed\n",
      "no reinterpolation needed\n",
      "no reinterpolation needed\n",
      "will compute the lowest eigenvector by diagonalizing the Hessian\n",
      "lbfgs: having trouble finding a good step size. 1.0000000000000002e-12 2.1316502658102627, resetting the minimizer\n",
      "lbfgs: having trouble finding a good step size. 1.6916435351531025e-13 0.01691643535153102, resetting the minimizer\n",
      "lbfgs: having trouble finding a good step size. 1.6916435351531025e-13 0.01691643535153102, resetting the minimizer\n",
      "lbfgs: having trouble finding a good step size. 1.6916435351531025e-13 0.01691643535153102, resetting the minimizer\n",
      "lbfgs: having trouble finding a good step size. 1.6916435351531025e-13 0.01691643535153102, resetting the minimizer\n",
      "lbfgs: having trouble finding a good step size. 1.6916435351531025e-13 0.01691643535153102, resetting the minimizer\n",
      "lbfgs: having trouble finding a good step size. 1.6916435351531025e-13 0.01691643535153102, resetting the minimizer\n",
      "lbfgs: having trouble finding a good step size. 1.6916435351531025e-13 0.01691643535153102, resetting the minimizer\n",
      "lbfgs: having trouble finding a good step size. 1.6916435351531025e-13 0.01691643535153102, resetting the minimizer\n",
      "lbfgs: having trouble finding a good step size. 1.6916435351531025e-13 0.01691643535153102, resetting the minimizer\n",
      "lbfgs: too many failures in adjustStepSize, exiting\n",
      "caught line search error, aborting connection attempt\n",
      "sending a random connect job 65 46\n",
      "no reinterpolation needed\n",
      "no reinterpolation needed\n",
      "no reinterpolation needed\n",
      "no reinterpolation needed\n",
      "no reinterpolation needed\n",
      "no reinterpolation needed\n",
      "no reinterpolation needed\n",
      "no reinterpolation needed\n",
      "will compute the lowest eigenvector by diagonalizing the Hessian\n",
      "lbfgs: having trouble finding a good step size. 1e-12 0.31233255229724577, resetting the minimizer\n",
      "lbfgs: having trouble finding a good step size. 1.0000000000000002e-12 4.789420872421317, resetting the minimizer\n",
      "lbfgs: having trouble finding a good step size. 1e-12 0.12295071196945115, resetting the minimizer\n",
      "lbfgs: having trouble finding a good step size. 1e-12 0.12295071196945115, resetting the minimizer\n",
      "lbfgs: having trouble finding a good step size. 1e-12 0.12295071196945115, resetting the minimizer\n",
      "lbfgs: having trouble finding a good step size. 1e-12 0.12295071196945115, resetting the minimizer\n",
      "lbfgs: having trouble finding a good step size. 1e-12 0.12295071196945115, resetting the minimizer\n",
      "lbfgs: having trouble finding a good step size. 1e-12 0.12295071196945115, resetting the minimizer\n",
      "lbfgs: having trouble finding a good step size. 1e-12 0.12295071196945115, resetting the minimizer\n",
      "lbfgs: having trouble finding a good step size. 1e-12 0.12295071196945115, resetting the minimizer\n",
      "lbfgs: too many failures in adjustStepSize, exiting\n",
      "caught line search error, aborting connection attempt\n",
      "sending a random connect job 75 73\n",
      "will compute the lowest eigenvector by diagonalizing the Hessian\n",
      "lbfgs: having trouble finding a good step size. 1e-12 0.5090202297544094, resetting the minimizer\n",
      "lbfgs: having trouble finding a good step size. 8.898080151908962e-13 0.08898080151908959, resetting the minimizer\n",
      "lbfgs: having trouble finding a good step size. 8.898080151908962e-13 0.08898080151908959, resetting the minimizer\n",
      "lbfgs: having trouble finding a good step size. 8.898080151908962e-13 0.08898080151908959, resetting the minimizer\n",
      "lbfgs: having trouble finding a good step size. 8.898080151908962e-13 0.08898080151908959, resetting the minimizer\n",
      "lbfgs: having trouble finding a good step size. 8.898080151908962e-13 0.08898080151908959, resetting the minimizer\n",
      "lbfgs: having trouble finding a good step size. 8.898080151908962e-13 0.08898080151908959, resetting the minimizer\n",
      "lbfgs: having trouble finding a good step size. 8.898080151908962e-13 0.08898080151908959, resetting the minimizer\n",
      "lbfgs: having trouble finding a good step size. 8.898080151908962e-13 0.08898080151908959, resetting the minimizer\n",
      "lbfgs: having trouble finding a good step size. 8.898080151908962e-13 0.08898080151908959, resetting the minimizer\n",
      "lbfgs: too many failures in adjustStepSize, exiting\n",
      "caught line search error, aborting connection attempt\n",
      "sending a random connect job 47 66\n",
      "no reinterpolation needed\n",
      "no reinterpolation needed\n",
      "no reinterpolation needed\n",
      "no reinterpolation needed\n",
      "no reinterpolation needed\n",
      "no reinterpolation needed\n",
      "will compute the lowest eigenvector by diagonalizing the Hessian\n",
      "lbfgs: having trouble finding a good step size. 1.0000000000000002e-12 26.005857584786348, resetting the minimizer\n",
      "lbfgs: having trouble finding a good step size. 8.78866933717953e-13 0.08788669337179528, resetting the minimizer\n",
      "lbfgs: having trouble finding a good step size. 8.78866933717953e-13 0.08788669337179528, resetting the minimizer\n",
      "lbfgs: having trouble finding a good step size. 8.78866933717953e-13 0.08788669337179528, resetting the minimizer\n",
      "lbfgs: having trouble finding a good step size. 8.78866933717953e-13 0.08788669337179528, resetting the minimizer\n",
      "lbfgs: having trouble finding a good step size. 8.78866933717953e-13 0.08788669337179528, resetting the minimizer\n",
      "lbfgs: having trouble finding a good step size. 8.78866933717953e-13 0.08788669337179528, resetting the minimizer\n",
      "lbfgs: having trouble finding a good step size. 8.78866933717953e-13 0.08788669337179528, resetting the minimizer\n",
      "lbfgs: having trouble finding a good step size. 8.78866933717953e-13 0.08788669337179528, resetting the minimizer\n",
      "lbfgs: having trouble finding a good step size. 8.78866933717953e-13 0.08788669337179528, resetting the minimizer\n",
      "lbfgs: too many failures in adjustStepSize, exiting\n",
      "caught line search error, aborting connection attempt\n",
      "sending a random connect job 12 69\n",
      "no reinterpolation needed\n",
      "no reinterpolation needed\n",
      "no reinterpolation needed\n",
      "no reinterpolation needed\n",
      "no reinterpolation needed\n",
      "no reinterpolation needed\n"
     ]
    }
   ],
   "source": [
    "from pele.landscape import ConnectManager\n",
    "manager = ConnectManager(db)\n",
    "for i in xrange(20):\n",
    "    min1, min2 = manager.get_connect_job()\n",
    "    connect = system.get_double_ended_connect(min1, min2, db, verbosity=-1)\n",
    "    connect.connect()"
   ]
  },
  {
   "cell_type": "code",
   "execution_count": null,
   "metadata": {
    "colab": {},
    "colab_type": "code",
    "id": "rx882W-MjjBe"
   },
   "outputs": [],
   "source": [
    "print \"number of minima\", db.number_of_minima()\n",
    "print \"number of transition states\", db.number_of_transition_states()"
   ]
  },
  {
   "cell_type": "code",
   "execution_count": null,
   "metadata": {
    "colab": {},
    "colab_type": "code",
    "id": "oYRXFRotjlnD"
   },
   "outputs": [],
   "source": [
    "from pele.utils.disconnectivity_graph import DisconnectivityGraph, database2graph\n",
    "\n",
    "graph = database2graph(db)\n",
    "dgraph = DisconnectivityGraph(graph)\n",
    "dgraph.calculate()\n",
    "dgraph.plot()\n",
    "import matplotlib.pyplot as plt\n",
    "%matplotlib inline\n",
    "# plt.figure(figsize=(30,1))\n",
    "plt.show()"
   ]
  },
  {
   "cell_type": "code",
   "execution_count": null,
   "metadata": {},
   "outputs": [],
   "source": []
  }
 ],
 "metadata": {
  "colab": {
   "name": "water_discon.ipynb",
   "provenance": []
  },
  "kernelspec": {
   "display_name": "pele",
   "language": "python",
   "name": "pele"
  },
  "language_info": {
   "codemirror_mode": {
    "name": "ipython",
    "version": 2
   },
   "file_extension": ".py",
   "mimetype": "text/x-python",
   "name": "python",
   "nbconvert_exporter": "python",
   "pygments_lexer": "ipython2",
   "version": "2.7.15"
  }
 },
 "nbformat": 4,
 "nbformat_minor": 1
}
