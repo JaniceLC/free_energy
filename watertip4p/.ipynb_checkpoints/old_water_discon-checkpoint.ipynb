{
 "cells": [
  {
   "cell_type": "code",
   "execution_count": 1,
   "metadata": {
    "colab": {},
    "colab_type": "code",
    "id": "yE2EN6yuWLmZ"
   },
   "outputs": [],
   "source": [
    "import numpy as np\n",
    "from pele.potentials import LJ\n",
    "from pele.utils import xyz\n",
    "from pele.angleaxis import rigidbody\n",
    "from pele.optimize import lbfgs_py\n",
    "\n",
    "\n",
    "# read in coordinates from xyz file\n",
    "ref = xyz.read_xyz(open(\"TIP4P-16.xyz\"))\n",
    "xyz.write_xyz(open(\"test.xyz\", \"w\"), coords=ref.coords)\n",
    "# lookup table for atom masses\n",
    "mass_lookup = {'O': 16., 'H': 1.}\n",
    "\n",
    "#ref.coords[:] *= 3\n"
   ]
  },
  {
   "cell_type": "code",
   "execution_count": 2,
   "metadata": {
    "colab": {},
    "colab_type": "code",
    "id": "UAYKelzKWPs2"
   },
   "outputs": [
    {
     "ename": "AttributeError",
     "evalue": "'module' object has no attribute 'RBSystem'",
     "output_type": "error",
     "traceback": [
      "\u001b[0;31m---------------------------------------------------------------------------\u001b[0m",
      "\u001b[0;31mAttributeError\u001b[0m                            Traceback (most recent call last)",
      "\u001b[0;32m<ipython-input-2-eafe78bf513a>\u001b[0m in \u001b[0;36m<module>\u001b[0;34m()\u001b[0m\n\u001b[1;32m     14\u001b[0m \u001b[0;34m\u001b[0m\u001b[0m\n\u001b[1;32m     15\u001b[0m \u001b[0;31m# define a new rigid body system\u001b[0m\u001b[0;34m\u001b[0m\u001b[0;34m\u001b[0m\u001b[0m\n\u001b[0;32m---> 16\u001b[0;31m \u001b[0mrbsystem\u001b[0m \u001b[0;34m=\u001b[0m \u001b[0mrigidbody\u001b[0m\u001b[0;34m.\u001b[0m\u001b[0mRBSystem\u001b[0m\u001b[0;34m(\u001b[0m\u001b[0;34m)\u001b[0m\u001b[0;34m\u001b[0m\u001b[0m\n\u001b[0m\u001b[1;32m     17\u001b[0m \u001b[0mrbsystem\u001b[0m\u001b[0;34m.\u001b[0m\u001b[0madd_sites\u001b[0m\u001b[0;34m(\u001b[0m\u001b[0mrb_sites\u001b[0m\u001b[0;34m)\u001b[0m\u001b[0;34m\u001b[0m\u001b[0m\n\u001b[1;32m     18\u001b[0m \u001b[0;34m\u001b[0m\u001b[0m\n",
      "\u001b[0;31mAttributeError\u001b[0m: 'module' object has no attribute 'RBSystem'"
     ]
    }
   ],
   "source": [
    "\n",
    "# now define a new rigid body system\n",
    "rb_sites = []\n",
    "for atomtype, x, i in zip(ref.atomtypes, ref.coords, xrange(len(ref.atomtypes))):\n",
    "    # every 3rd atom, define a new reigid molecule\n",
    "    if i % 3 == 0:\n",
    "        rb = rigidbody.RigidFragment()\n",
    "        rb_sites.append(rb)\n",
    "    rb.add_atom(atomtype, x, mass_lookup[atomtype])\n",
    "\n",
    "# finalize the rigid body setup\n",
    "for rb in rb_sites:\n",
    "    rb.finalize_setup()\n",
    "\n",
    "# define a new rigid body system\n",
    "rbsystem = rigidbody.RBSystem()\n",
    "rbsystem.add_sites(rb_sites)\n",
    "\n",
    "print len(rbsystem.sites), len(rbsystem.indices)\n",
    "\n",
    "rbcoords = rbsystem.coords_adapter(np.zeros(len(rbsystem.sites)*6))\n",
    "\n",
    "for site, com in zip(rbsystem.sites, rbcoords.posRigid):\n",
    "    com[:] = ref.coords[site.indices[0]] - site.atom_positions[0]\n",
    "\n",
    "\n"
   ]
  },
  {
   "cell_type": "code",
   "execution_count": 0,
   "metadata": {
    "colab": {},
    "colab_type": "code",
    "id": "nccXsCN3WR1E"
   },
   "outputs": [],
   "source": [
    "\n",
    "# for simplicity just use a lj potential here\n",
    "pot = LJ(eps=0.1550, sig=3.1536)\n",
    "# get the flattened coordinate array\n",
    "print pot.getEnergy(ref.coords.flatten())\n",
    "rbpot = rigidbody.RBPotentialWrapper(rbsystem, pot)\n",
    "print rbpot.getEnergy(rbcoords.coords)\n",
    "e, g = rbpot.getEnergyGradient(rbcoords.coords)\n",
    "g_n = rbpot.NumericalDerivative(rbcoords.coords, eps=1e-4)\n",
    "cg = rbsystem.coords_adapter(g-g_n)\n",
    "print cg.posRigid\n",
    "print cg.rotRigid\n",
    "ret = lbfgs_py(rbcoords.coords, rbpot)\n",
    "print ret.energy\n",
    "xyz.write_xyz(open(\"quenched.xyz\", \"w\"), rbsystem.to_atomistic(\n",
    "    ret.coords), atomtypes=ref.atomtypes)\n"
   ]
  },
  {
   "cell_type": "code",
   "execution_count": 0,
   "metadata": {
    "colab": {},
    "colab_type": "code",
    "id": "BirKCX_hjK5a"
   },
   "outputs": [],
   "source": [
    "print rbsystem.get_masses()\n",
    "print rbsystem.get_permlist()"
   ]
  },
  {
   "cell_type": "code",
   "execution_count": 0,
   "metadata": {
    "colab": {},
    "colab_type": "code",
    "id": "VKW8sH2DjRSY"
   },
   "outputs": [],
   "source": [
    "db = rbsystem.create_database()"
   ]
  },
  {
   "cell_type": "code",
   "execution_count": 0,
   "metadata": {
    "colab": {},
    "colab_type": "code",
    "id": "YcabFruzjZEw"
   },
   "outputs": [],
   "source": [
    "bh = system.get_basinhopping(database=db, outstream=None)\n",
    "bh.run(400)"
   ]
  },
  {
   "cell_type": "code",
   "execution_count": 0,
   "metadata": {
    "colab": {},
    "colab_type": "code",
    "id": "LAuXsNsvjjig"
   },
   "outputs": [],
   "source": [
    "print \"number of minima\", db.number_of_minima()\n",
    "print \"number of transition states\", db.number_of_transition_states()"
   ]
  },
  {
   "cell_type": "code",
   "execution_count": 0,
   "metadata": {
    "colab": {},
    "colab_type": "code",
    "id": "59M6zmM4jfCQ"
   },
   "outputs": [],
   "source": [
    "import logging\n",
    "logger = logging.getLogger(\"pele.connect\")\n",
    "logger.setLevel(\"WARNING\")"
   ]
  },
  {
   "cell_type": "code",
   "execution_count": 0,
   "metadata": {
    "colab": {},
    "colab_type": "code",
    "id": "u3rcixChjhq-"
   },
   "outputs": [],
   "source": [
    "from pele.landscape import ConnectManager\n",
    "manager = ConnectManager(db)\n",
    "for i in xrange(20):\n",
    "    min1, min2 = manager.get_connect_job()\n",
    "    connect = system.get_double_ended_connect(min1, min2, db, verbosity=-1)\n",
    "    connect.connect()"
   ]
  },
  {
   "cell_type": "code",
   "execution_count": 0,
   "metadata": {
    "colab": {},
    "colab_type": "code",
    "id": "rx882W-MjjBe"
   },
   "outputs": [],
   "source": [
    "print \"number of minima\", db.number_of_minima()\n",
    "print \"number of transition states\", db.number_of_transition_states()"
   ]
  },
  {
   "cell_type": "code",
   "execution_count": 0,
   "metadata": {
    "colab": {},
    "colab_type": "code",
    "id": "oYRXFRotjlnD"
   },
   "outputs": [],
   "source": [
    "from pele.utils.disconnectivity_graph import DisconnectivityGraph, database2graph\n",
    "\n",
    "graph = database2graph(db)\n",
    "dgraph = DisconnectivityGraph(graph)\n",
    "dgraph.calculate()\n",
    "dgraph.plot()\n",
    "import matplotlib.pyplot as plt\n",
    "%matplotlib inline\n",
    "# plt.figure(figsize=(30,1))\n",
    "plt.show()"
   ]
  }
 ],
 "metadata": {
  "colab": {
   "name": "water_discon.ipynb",
   "provenance": []
  },
  "kernelspec": {
   "display_name": "pele",
   "language": "python",
   "name": "pele"
  },
  "language_info": {
   "codemirror_mode": {
    "name": "ipython",
    "version": 2
   },
   "file_extension": ".py",
   "mimetype": "text/x-python",
   "name": "python",
   "nbconvert_exporter": "python",
   "pygments_lexer": "ipython2",
   "version": "2.7.15"
  }
 },
 "nbformat": 4,
 "nbformat_minor": 1
}
